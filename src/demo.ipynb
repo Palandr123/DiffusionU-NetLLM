{
 "cells": [
  {
   "cell_type": "code",
   "execution_count": 1,
   "metadata": {},
   "outputs": [],
   "source": [
    "import warnings\n",
    "warnings.filterwarnings(\"ignore\")\n",
    "\n",
    "import torch\n",
    "from transformers import AutoModelForCausalLM, AutoTokenizer\n",
    "import diffusers\n",
    "\n",
    "from src.llm_objects import spot_objects\n",
    "from src.diffusion_models import SDXLEditingPipeline\n",
    "\n",
    "device = torch.device(\"cuda:1\")\n",
    "device1 = torch.device(\"cuda:2\")"
   ]
  },
  {
   "cell_type": "code",
   "execution_count": 2,
   "metadata": {},
   "outputs": [
    {
     "name": "stderr",
     "output_type": "stream",
     "text": [
      "`config.hidden_act` is ignored, you should use `config.hidden_activation` instead.\n",
      "Gemma's activation function will be set to `gelu_pytorch_tanh`. Please, use\n",
      "`config.hidden_activation` if you want to override this behaviour.\n",
      "See https://github.com/huggingface/transformers/pull/29402 for more details.\n",
      "Loading checkpoint shards: 100%|██████████| 4/4 [00:02<00:00,  1.55it/s]\n"
     ]
    }
   ],
   "source": [
    "# Model and tokenizer names\n",
    "model_name = \"google/gemma-7b-it\"\n",
    "\n",
    "# Load the model and tokenizer\n",
    "model = AutoModelForCausalLM.from_pretrained(model_name).eval().to(device)\n",
    "tokenizer = AutoTokenizer.from_pretrained(model_name)"
   ]
  },
  {
   "cell_type": "markdown",
   "metadata": {},
   "source": [
    "# Extract objects from the prompt using LLMs"
   ]
  },
  {
   "cell_type": "code",
   "execution_count": 3,
   "metadata": {},
   "outputs": [],
   "source": [
    "model_params = {\n",
    "    \"max_new_tokens\": 200,\n",
    "}\n",
    "prompts = [\n",
    "    \"a realistic cartoon-style image with a princess and four dwarfs\",\n",
    "    \"a vivid photo with a woman on the right and a clown on the left walking in a dirty alley\",\n",
    "    \"a monkey sitting above a green motorcycle on the left and another raccoon sitting above a blue motorcycle on the right\",\n",
    "    \"a photo of a giant macaron and a croissant splashing in the Seine with the Eiffel Tower in the background\",\n",
    "    \"a DSLR photo of a meatball and a donut falling from the clouds onto a neighborhood\",\n",
    "]\n",
    "results = []\n",
    "for prompt in prompts:\n",
    "    result = spot_objects(tokenizer, model, prompt, device, **model_params)\n",
    "    results.append(result)"
   ]
  },
  {
   "cell_type": "code",
   "execution_count": 4,
   "metadata": {},
   "outputs": [
    {
     "data": {
      "text/plain": [
       "{'objects': [('monkey', [None]),\n",
       "  ('motorcycle', ['green']),\n",
       "  ('raccoon', [None]),\n",
       "  ('motorcycle', ['blue'])],\n",
       " 'bg_prompt': 'Unknown',\n",
       " 'neg_prompt': ''}"
      ]
     },
     "execution_count": 4,
     "metadata": {},
     "output_type": "execute_result"
    }
   ],
   "source": [
    "idx = 2\n",
    "results[idx]"
   ]
  },
  {
   "cell_type": "markdown",
   "metadata": {},
   "source": [
    "# Image generation"
   ]
  },
  {
   "cell_type": "code",
   "execution_count": 5,
   "metadata": {},
   "outputs": [
    {
     "name": "stderr",
     "output_type": "stream",
     "text": [
      "Loading pipeline components...: 100%|██████████| 7/7 [00:01<00:00,  5.50it/s]\n"
     ]
    },
    {
     "name": "stdout",
     "output_type": "stream",
     "text": [
      "Using DDPM as scheduler.\n"
     ]
    }
   ],
   "source": [
    "base = SDXLEditingPipeline.from_pretrained(\n",
    "    \"stabilityai/stable-diffusion-xl-base-1.0\",  use_safetensors=True, torch_dtype=torch.float16, variant=\"fp16\", use_onnx=False\n",
    ")\n",
    "base.to(device1)\n",
    "use_ddpm = True\n",
    "if use_ddpm:\n",
    "  print('Using DDPM as scheduler.')\n",
    "  base.scheduler = diffusers.DDPMScheduler.from_config(base.scheduler.config)"
   ]
  },
  {
   "cell_type": "code",
   "execution_count": null,
   "metadata": {},
   "outputs": [],
   "source": []
  }
 ],
 "metadata": {
  "kernelspec": {
   "display_name": "diffusionu_netllm",
   "language": "python",
   "name": "python3"
  },
  "language_info": {
   "codemirror_mode": {
    "name": "ipython",
    "version": 3
   },
   "file_extension": ".py",
   "mimetype": "text/x-python",
   "name": "python",
   "nbconvert_exporter": "python",
   "pygments_lexer": "ipython3",
   "version": "3.10.14"
  }
 },
 "nbformat": 4,
 "nbformat_minor": 2
}
